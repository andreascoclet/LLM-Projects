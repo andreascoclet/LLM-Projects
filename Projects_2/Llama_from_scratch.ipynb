{
  "nbformat": 4,
  "nbformat_minor": 0,
  "metadata": {
    "colab": {
      "provenance": [],
      "gpuType": "T4"
    },
    "kernelspec": {
      "name": "python3",
      "display_name": "Python 3"
    },
    "language_info": {
      "name": "python"
    },
    "accelerator": "GPU"
  },
  "cells": [
    {
      "metadata": {
        "ExecuteTime": {
          "end_time": "2024-06-25T11:24:20.276221Z",
          "start_time": "2024-06-25T11:24:20.268716Z"
        },
        "id": "ecFH6uaYq47T"
      },
      "cell_type": "code",
      "source": [
        "import torch\n",
        "from torch import nn\n",
        "from torch.nn import functional as F\n",
        "import numpy as np\n",
        "from collections import OrderedDict\n",
        "import pandas as pd"
      ],
      "outputs": [],
      "execution_count": 1
    },
    {
      "cell_type": "code",
      "execution_count": 2,
      "metadata": {
        "colab": {
          "base_uri": "https://localhost:8080/"
        },
        "id": "9wfmWLa0wfwf",
        "outputId": "e1bc1a18-5acc-4192-a3b9-e94682a2a86c"
      },
      "outputs": [
        {
          "output_type": "stream",
          "name": "stdout",
          "text": [
            "Requirement already satisfied: gdown in /usr/local/lib/python3.10/dist-packages (5.1.0)\n",
            "Requirement already satisfied: beautifulsoup4 in /usr/local/lib/python3.10/dist-packages (from gdown) (4.12.3)\n",
            "Requirement already satisfied: filelock in /usr/local/lib/python3.10/dist-packages (from gdown) (3.15.3)\n",
            "Requirement already satisfied: requests[socks] in /usr/local/lib/python3.10/dist-packages (from gdown) (2.31.0)\n",
            "Requirement already satisfied: tqdm in /usr/local/lib/python3.10/dist-packages (from gdown) (4.66.4)\n",
            "Requirement already satisfied: soupsieve>1.2 in /usr/local/lib/python3.10/dist-packages (from beautifulsoup4->gdown) (2.5)\n",
            "Requirement already satisfied: charset-normalizer<4,>=2 in /usr/local/lib/python3.10/dist-packages (from requests[socks]->gdown) (3.3.2)\n",
            "Requirement already satisfied: idna<4,>=2.5 in /usr/local/lib/python3.10/dist-packages (from requests[socks]->gdown) (3.7)\n",
            "Requirement already satisfied: urllib3<3,>=1.21.1 in /usr/local/lib/python3.10/dist-packages (from requests[socks]->gdown) (2.0.7)\n",
            "Requirement already satisfied: certifi>=2017.4.17 in /usr/local/lib/python3.10/dist-packages (from requests[socks]->gdown) (2024.6.2)\n",
            "Requirement already satisfied: PySocks!=1.5.7,>=1.5.6 in /usr/local/lib/python3.10/dist-packages (from requests[socks]->gdown) (1.7.1)\n"
          ]
        }
      ],
      "source": [
        "!pip install gdown"
      ]
    },
    {
      "cell_type": "code",
      "execution_count": 3,
      "metadata": {
        "colab": {
          "base_uri": "https://localhost:8080/",
          "height": 130
        },
        "id": "BdW4zmgCwiVX",
        "outputId": "162bbee1-a25b-4bd0-d590-0d850607afcd"
      },
      "outputs": [
        {
          "output_type": "stream",
          "name": "stderr",
          "text": [
            "Downloading...\n",
            "From: https://drive.google.com/uc?id=1S7n5n6A-2MDa8dqCOl4l1VmcYnAW0i9u\n",
            "To: /content/data.txt\n",
            "100%|██████████| 5.46M/5.46M [00:00<00:00, 146MB/s]\n"
          ]
        },
        {
          "output_type": "execute_result",
          "data": {
            "text/plain": [
              "'data.txt'"
            ],
            "application/vnd.google.colaboratory.intrinsic+json": {
              "type": "string"
            }
          },
          "metadata": {},
          "execution_count": 3
        }
      ],
      "source": [
        "import gdown\n",
        "\n",
        "# URL of the file to be downloaded\n",
        "file_url = \"https://drive.google.com/uc?id=1S7n5n6A-2MDa8dqCOl4l1VmcYnAW0i9u\"\n",
        "\n",
        "# Download the file\n",
        "output_file = \"data.txt\"\n",
        "gdown.download(file_url, output_file, quiet=False)"
      ]
    },
    {
      "cell_type": "code",
      "source": [
        "# import random\n",
        "# import numpy as np\n",
        "# import torch\n",
        "\n",
        "# def set_random_seeds(seed_value=42):\n",
        "#     random.seed(seed_value)\n",
        "#     np.random.seed(seed_value)\n",
        "#     torch.manual_seed(seed_value)\n",
        "#     if torch.cuda.is_available():\n",
        "#         torch.cuda.manual_seed(seed_value)\n",
        "#         torch.cuda.manual_seed_all(seed_value)\n",
        "#     torch.backends.cudnn.deterministic = True\n",
        "#     torch.backends.cudnn.benchmark = False\n",
        "\n",
        "# # Set the seed\n",
        "# set_random_seeds(42)\n"
      ],
      "metadata": {
        "id": "u3y_RcEqHlxq"
      },
      "execution_count": 4,
      "outputs": []
    },
    {
      "cell_type": "code",
      "source": [
        "# Function to create the rotation matrix for RoPE embeddings\n",
        "def generate_rotation_matrix(seq_length, embed_dim, device):\n",
        "    # [INSTRUCTION] Complete this function to generate a rotation matrix for RoPE embeddings.\n",
        "    # The matrix rotates queries and keys based on sequence position and embedding dimension.\n",
        "    # Hint: Consider using the provided exponential decay formula for theta and apply trigonometric rotations.\n",
        "    # Implement your function based on the hint\n",
        "    rotation_matrix = torch.zeros((seq_length, embed_dim, embed_dim), requires_grad=False).to(device)\n",
        "\n",
        "    for position in range(seq_length):\n",
        "        for i in range(embed_dim // 2):\n",
        "            theta = 10000.0 ** (-2.0 * (i - 1) / embed_dim)\n",
        "\n",
        "            m_theta=position*theta\n",
        "            rotation_matrix[position, 2 * i, 2 * i] = np.cos(m_theta)\n",
        "            rotation_matrix[position, 2 * i, 2 * i + 1] = -np.sin(m_theta)\n",
        "            rotation_matrix[position, 2 * i + 1, 2 * i] = np.sin(m_theta)\n",
        "            rotation_matrix[position, 2 * i + 1, 2 * i + 1] = np.cos(m_theta)\n",
        "\n",
        "    return rotation_matrix"
      ],
      "metadata": {
        "id": "lwNHyfGYi2-p",
        "ExecuteTime": {
          "end_time": "2024-06-25T11:24:20.345632Z",
          "start_time": "2024-06-25T11:24:20.340752Z"
        }
      },
      "outputs": [],
      "execution_count": 5
    },
    {
      "cell_type": "code",
      "source": [
        "# Custom RMS Normalization layer\n",
        "class RMSNorm(nn.Module):\n",
        "    def __init__(self, layer_dims, epsilon=1e-8):\n",
        "        super().__init__()\n",
        "        self.register_parameter(\"gamma\", nn.Parameter(torch.ones(layer_dims)))\n",
        "        self.epsilon = epsilon\n",
        "\n",
        "    def forward(self, tensor_input):\n",
        "        # [INSTRUCTION] Complete the forward method to normalize the input tensor using RMSNorm.\n",
        "        # Compute the root mean square of the tensor values and use it to normalize the tensor_input.\n",
        "        # Consider dimensions appropriately for batch processing and do not forget to add epsilon for numerical stability.\n",
        "        # Implement your normalization logic here\n",
        "\n",
        "        rms = torch.linalg.norm(tensor_input, dim=(1, 2)) * tensor_input[0].numel() ** -0.5\n",
        "\n",
        "        raw = tensor_input / rms.unsqueeze(-1).unsqueeze(-1)\n",
        "\n",
        "        tensor_output = self.gamma[:tensor_input.shape[1],:].unsqueeze(0) * raw\n",
        "\n",
        "        return tensor_output"
      ],
      "metadata": {
        "id": "lR5AJFpqjF6u",
        "ExecuteTime": {
          "end_time": "2024-06-25T11:24:20.352882Z",
          "start_time": "2024-06-25T11:24:20.346627Z"
        }
      },
      "outputs": [],
      "execution_count": 6
    },
    {
      "cell_type": "code",
      "source": [
        "# Attention head with RoPE embeddings and masking\n",
        "class AttentionHeadWithRoPE(nn.Module):\n",
        "    def __init__(self, params):\n",
        "        super().__init__()\n",
        "        self.params = params\n",
        "        # [INSTRUCTION] Initialize linear layers for queries, keys, and values.\n",
        "        # Each should transform input data to the same embedding dimensionality, and none should include bias terms.\n",
        "        # Initialize query, key, and value linear transformations here\n",
        "\n",
        "        self.w_q = nn.Linear(params['embedding_dim'], params['embedding_dim'], bias=False)\n",
        "        self.w_k = nn.Linear(params['embedding_dim'], params['embedding_dim'], bias=False)\n",
        "        self.w_v = nn.Linear(params['embedding_dim'], params['embedding_dim'], bias=False)\n",
        "\n",
        "        # [INSTRUCTION] Retrieve the rotation matrix generated for RoPE embeddings, ensuring it is moved to the correct device.\n",
        "        # Load the rotation matrix here\n",
        "\n",
        "        self.rotation_matrix = generate_rotation_matrix(params['sequence_length'], params['embedding_dim'], params['device'])\n",
        "\n",
        "\n",
        "    def forward(self, data_input, return_attention=False):\n",
        "        batch_size, seq_len, embed_dim = data_input.shape\n",
        "        # [INSTRUCTION] Transform the input data into queries, keys, and values using the respective linear layers.\n",
        "        # Transform data_input into queries, keys, and values here\n",
        "        query = self.w_q(data_input)\n",
        "        key = self.w_k(data_input)\n",
        "        value = self.w_v(data_input)\n",
        "\n",
        "        # [INSTRUCTION] Apply the RoPE rotation to both queries and keys. Think about the tensor shapes for matrix multiplication.\n",
        "        # Apply RoPE rotation to queries and keys here\n",
        "        query_rotated = (torch.bmm(query.transpose(0,1), self.rotation_matrix[:seq_len])).transpose(0,1)\n",
        "        key_rotated = (torch.bmm(key.transpose(0,1), self.rotation_matrix[:seq_len])).transpose(0,1)\n",
        "\n",
        "        # [INSTRUCTION] Compute scaled dot-product attention. Remember to handle masking if 'return_attention' is true.\n",
        "        # Optionally return attention weights for visualization or debugging.\n",
        "        # Compute attention and optionally return attention weights\n",
        "        attention_output = F.scaled_dot_product_attention(\n",
        "            query_rotated, key_rotated, value, dropout_p=0.1, is_causal=True\n",
        "        )\n",
        "\n",
        "        if return_attention:\n",
        "            att_mask = torch.tril(torch.ones((seq_len, seq_len)), diagonal=0)\n",
        "            attention_weights = (torch.bmm(query_rotated, key_rotated.transpose(1, 2)) / np.sqrt(embed_dim)) + att_mask\n",
        "\n",
        "            attention_weights = F.softmax(attention_weights, dim=-1)\n",
        "            return attention_output, attention_weights\n",
        "        return attention_output"
      ],
      "metadata": {
        "id": "bPGqRdIfjF9X",
        "ExecuteTime": {
          "end_time": "2024-06-25T11:24:20.413016Z",
          "start_time": "2024-06-25T11:24:20.402854Z"
        }
      },
      "outputs": [],
      "execution_count": 7
    },
    {
      "cell_type": "code",
      "source": [
        "# Multi-head attention module\n",
        "class MultiHeadAttention(nn.Module):\n",
        "    def __init__(self, params):\n",
        "        super().__init__()\n",
        "        self.params = params\n",
        "        # [INSTRUCTION] Initialize multiple attention heads.\n",
        "        # Create a ModuleList of AttentionHeadWithRoPE instances, one for each attention head specified in 'params'.\n",
        "        # Initialize attention heads here\n",
        "        self.attention_heads = nn.ModuleList([\n",
        "            AttentionHeadWithRoPE(params) for _ in range(params['attention_heads'])\n",
        "        ])\n",
        "\n",
        "        # [INSTRUCTION] Define an output linear transformation that combines the outputs of all heads.\n",
        "        # This linear layer should project from the concatenated dimension back to the embedding size.\n",
        "        # Initialize output linear transformation here\n",
        "        self.linear = nn.Linear(params['attention_heads'] * params['embedding_dim'], params['embedding_dim'])\n",
        "\n",
        "        # [INSTRUCTION] Add dropout for regularization after combining the outputs of the attention heads.\n",
        "        # Initialize dropout layer here\n",
        "        self.dropout = nn.Dropout(params['dropout'])\n",
        "\n",
        "    def forward(self, data_input):\n",
        "        # [INSTRUCTION] Compute the output for each attention head and concatenate them along the last dimension.\n",
        "        # Compute and concatenate attention head outputs here\n",
        "        attention_result = torch.cat([h(data_input) for h in self.attention_heads], dim=-1)\n",
        "\n",
        "        # [INSTRUCTION] Apply the output linear transformation and dropout to the concatenated output.\n",
        "        # Apply linear transformation and dropout here\n",
        "        output = self.dropout(self.linear(attention_result))\n",
        "\n",
        "        return output"
      ],
      "metadata": {
        "id": "CvtM5G5DjV_I",
        "ExecuteTime": {
          "end_time": "2024-06-25T11:24:20.425594Z",
          "start_time": "2024-06-25T11:24:20.420Z"
        }
      },
      "outputs": [],
      "execution_count": 8
    },
    {
      "cell_type": "code",
      "source": [
        "\n",
        "# Swish-Gated Linear Unit (SiGLU) activation function\n",
        "class SwishGLU(nn.Module):\n",
        "    def __init__(self, size):\n",
        "        super().__init__()\n",
        "        self.linear_gate = nn.Linear(size, size)\n",
        "        self.linear = nn.Linear(size, size)\n",
        "        self.beta = nn.Parameter(torch.ones(1))\n",
        "\n",
        "    def forward(self, data_input):\n",
        "        # [INSTRUCTION] Implement the SwishGLU activation function.\n",
        "        # The function should use a gated mechanism with a swish activation to modulate the input data.\n",
        "        # Implement your activation function here\n",
        "        result_linear_gate = self.linear_gate(data_input)\n",
        "        swish = result_linear_gate * torch.sigmoid(self.beta * result_linear_gate)\n",
        "        result_linear = self.linear(data_input)\n",
        "        result = swish * result_linear\n",
        "\n",
        "        return result"
      ],
      "metadata": {
        "id": "_dPfT-R6jGAf",
        "ExecuteTime": {
          "end_time": "2024-06-25T11:24:20.440610Z",
          "start_time": "2024-06-25T11:24:20.435570Z"
        }
      },
      "outputs": [],
      "execution_count": 9
    },
    {
      "cell_type": "code",
      "source": [
        "# Transformer block consisting of attention and feedforward layers\n",
        "class LLamaBlock(nn.Module):\n",
        "    def __init__(self, params):\n",
        "        super().__init__()\n",
        "        self.params = params\n",
        "        # [INSTRUCTION] Define the RMS normalization layers 'norm1' and 'norm2'.\n",
        "        # Each should be initialized with appropriate dimensions based on sequence length and embedding size.\n",
        "        # Initialize RMSNorm instances here\n",
        "        self.norm1 = RMSNorm((params['sequence_length'], params['embedding_dim']))\n",
        "\n",
        "        self.norm2 = RMSNorm((params['sequence_length'], params['embedding_dim']))\n",
        "\n",
        "        # [INSTRUCTION] Initialize the attention head using the AttentionHeadWithRoPE class with given parameters.\n",
        "        # Initialize the attention head here\n",
        "        self.attention = AttentionHeadWithRoPE(params)\n",
        "\n",
        "\n",
        "        # [INSTRUCTION] Define a feedforward network consisting of a linear layer followed by a SwishGLU activation.\n",
        "        # Ensure the dimensionality matches the embedding size defined in params.\n",
        "        # Initialize the feedforward network here\n",
        "        self.feed_forward = nn.Sequential(\n",
        "            nn.Linear(params['embedding_dim'], params['embedding_dim']),\n",
        "            SwishGLU(params['embedding_dim'])\n",
        "        )\n",
        "\n",
        "    def forward(self, data_input):\n",
        "        # [INSTRUCTION] Implement the forward pass integrating normalization, attention, and feedforward layers.\n",
        "        # Include residual connections for the attention and feedforward blocks.\n",
        "        # Hint: Remember to apply normalization before and after the attention, as well as before the feedforward network.\n",
        "        # Implement the forward logic with residuals and integration of components\n",
        "        normed_data1 = self.norm1(data_input)\n",
        "        attention_output = self.attention(normed_data1)\n",
        "\n",
        "        attention_output += normed_data1\n",
        "\n",
        "        normed_data2 = self.norm2(attention_output)\n",
        "        feedforward_output = self.feed_forward(normed_data2)\n",
        "\n",
        "        data_output = normed_data2 + feedforward_output\n",
        "\n",
        "        return data_output"
      ],
      "metadata": {
        "id": "B0tOMYGWjGDX",
        "ExecuteTime": {
          "end_time": "2024-06-25T11:24:20.455138Z",
          "start_time": "2024-06-25T11:24:20.447590Z"
        }
      },
      "outputs": [],
      "execution_count": 10
    },
    {
      "cell_type": "code",
      "source": [
        "# LLaMA-like language model\n",
        "class LLama(nn.Module):\n",
        "    def __init__(self, params):\n",
        "        super().__init__()\n",
        "        self.params = params\n",
        "        # [INSTRUCTION] Initialize the embedding layer for the input tokens.\n",
        "        # Initialize embedding layer here\n",
        "        self.embedding = nn.Embedding(params['vocab_size'], params['embedding_dim'])\n",
        "\n",
        "        # [INSTRUCTION] Construct a sequence of transformer blocks using OrderedDict.\n",
        "        # Use a loop to create a specified number of LLamaBlock instances based on 'transformer_blocks' in params.\n",
        "        # Create transformer blocks here\n",
        "        self.llama_blocks = nn.Sequential(OrderedDict([(f\"llama_{i}\", LLamaBlock(params)) for i in range(params['transformer_blocks'])]))\n",
        "\n",
        "        # [INSTRUCTION] Define the final linear transformation layers.\n",
        "        # This should include a linear layer to match the embedding dimension, a SwishGLU activation, and a final linear layer to map back to the vocabulary size.\n",
        "        # Initialize the final linear transformation layers here\n",
        "        self.fltl = nn.Sequential(\n",
        "            nn.Linear(params['embedding_dim'], params['embedding_dim']),\n",
        "            SwishGLU(params['embedding_dim']),\n",
        "            nn.Linear(params['embedding_dim'], params['vocab_size'])\n",
        "        )\n",
        "\n",
        "        # Optionally print the total number of parameters in the model\n",
        "        print(\"Model parameters:\", sum([p.numel() for p in self.parameters()]))\n",
        "\n",
        "    def forward(self, input_ids, target_ids=None):\n",
        "        # [INSTRUCTION] Implement the forward pass of the model.\n",
        "        # Embed the input_ids, process them through the LLama_blocks, and apply the final linear transformations.\n",
        "        # If target_ids are provided, compute and return the cross-entropy loss along with the logits.\n",
        "        # Implement forward logic and loss computation here\n",
        "\n",
        "        data_embedded = self.embedding(input_ids)\n",
        "\n",
        "        data_llamed = self.llama_blocks(data_embedded)\n",
        "\n",
        "        logist = self.fltl(data_llamed)\n",
        "\n",
        "        if target_ids is None:\n",
        "            return logist\n",
        "        else:\n",
        "            logist = logist.view(-1, self.params['vocab_size'])\n",
        "            target_ids = target_ids.view(-1)\n",
        "            loss = F.cross_entropy(logist, target_ids)\n",
        "\n",
        "        return logist, loss"
      ],
      "metadata": {
        "id": "WrhhoIYmjGF4",
        "ExecuteTime": {
          "end_time": "2024-06-25T11:24:20.489244Z",
          "start_time": "2024-06-25T11:24:20.483087Z"
        }
      },
      "outputs": [],
      "execution_count": 11
    },
    {
      "cell_type": "code",
      "source": [
        "# Data preprocessing function\n",
        "def prepare_data(file_path):\n",
        "    # [INSTRUCTION] Open the file and read the text. Then create a list of unique characters and build two dictionaries:\n",
        "    # one to convert characters to indices and another from indices to characters.\n",
        "\n",
        "    # Implement code to read file, create character list, and build dictionaries here\n",
        "    with open(file_path, 'r', encoding='utf-8') as file:\n",
        "        text = file.read()\n",
        "\n",
        "    unique_chars = list(sorted(set(text)))\n",
        "\n",
        "    vocabulary_size = len(unique_chars)\n",
        "\n",
        "    char_to_index = {char: index for index, char in enumerate(unique_chars)}\n",
        "    index_to_char = {index: char for index, char in enumerate(unique_chars)}\n",
        "\n",
        "    # [INSTRUCTION] Convert the entire text into a tensor of indices corresponding to the characters.\n",
        "\n",
        "    # Convert characters in the text to indices and create a tensor here\n",
        "    text_indices = [char_to_index[char] for char in text]\n",
        "\n",
        "    data_tensor = torch.tensor(text_indices, dtype=torch.int8)\n",
        "\n",
        "    return data_tensor, vocabulary_size\n",
        "\n",
        "# Function to create training batches\n",
        "def batch_generator(data, split, batch_size, seq_len, params):\n",
        "    # [INSTRUCTION] Split the data into training, validation, and test sets based on the provided ratios.\n",
        "    # Consider using 80% of data for training, 10% for validation, and 10% for testing.\n",
        "    # Split the data into the appropriate segments here\n",
        "    train_length = int(len(data) * 0.8)\n",
        "    val_length = int(len(data) * 0.1)\n",
        "    test_length = len(data) - train_length - val_length\n",
        "\n",
        "    train_data = data[:train_length]\n",
        "    val_data = data[train_length:train_length + val_length]\n",
        "    test_data = data[train_length + val_length:]\n",
        "\n",
        "    # Select data for the current training or evaluation phase here\n",
        "    if split == 'train':\n",
        "        selected_data = train_data\n",
        "    elif split == 'test':\n",
        "        selected_data = test_data\n",
        "    elif split == 'validation':\n",
        "        selected_data = val_data\n",
        "    else:\n",
        "        selected_data = train_data\n",
        "\n",
        "    # [INSTRUCTION] Generate random starting points for each batch and construct input and target sequences.\n",
        "    # The target sequence for each input is simply the input sequence shifted by one position.\n",
        "    # Generate random batch start indices and construct input and target sequences here\n",
        "    idx = torch.randint(0,selected_data.size(0) - seq_len - 1, (batch_size,))\n",
        "\n",
        "    input_sequences = torch.stack([selected_data[i:i + seq_len] for i in idx]).long()\n",
        "    target_sequences = torch.stack([selected_data[i + 1:i + seq_len + 1] for i in idx]).long()\n",
        "\n",
        "    return input_sequences, target_sequences"
      ],
      "metadata": {
        "id": "XN7dKtlOqD5p",
        "ExecuteTime": {
          "end_time": "2024-06-25T11:24:20.517629Z",
          "start_time": "2024-06-25T11:24:20.509194Z"
        }
      },
      "outputs": [],
      "execution_count": 12
    },
    {
      "cell_type": "code",
      "source": [
        "# Function to evaluate model loss\n",
        "@torch.no_grad()\n",
        "def eval_loss(model, dataset, params):\n",
        "    results = {}\n",
        "    model.eval()\n",
        "    for split in [\"train\", \"validation\"]:\n",
        "        batch_losses = []\n",
        "        for _ in range(10):\n",
        "            input_batch, target_batch = batch_generator(dataset, split, params['training_batch'], params['sequence_length'], params)\n",
        "            input_batch = input_batch.to(device)\n",
        "            target_batch = target_batch.to(device)\n",
        "            _, batch_loss = model(input_batch, target_batch)\n",
        "            batch_losses.append(batch_loss.item())\n",
        "        results[split] = np.mean(batch_losses)\n",
        "    model.train()\n",
        "    return results"
      ],
      "metadata": {
        "id": "FsCcVecxmZS9",
        "ExecuteTime": {
          "end_time": "2024-06-25T11:24:20.534530Z",
          "start_time": "2024-06-25T11:24:20.528603Z"
        }
      },
      "outputs": [],
      "execution_count": 13
    },
    {
      "cell_type": "code",
      "source": [
        "# Training loop\n",
        "import time\n",
        "def train_model(model, optimizer, dataset, params, scheduler=None):\n",
        "    all_losses = []\n",
        "    start = time.time()\n",
        "    for epoch in range(params['training_epochs']):\n",
        "        optimizer.zero_grad()\n",
        "        input_batch, target_batch = batch_generator(dataset, 'train', params['training_batch'], params['sequence_length'], params)\n",
        "\n",
        "        input_batch = input_batch.to(device)\n",
        "        target_batch = target_batch.to(device)\n",
        "\n",
        "        _, batch_loss = model(input_batch, target_batch)\n",
        "        batch_loss.backward()\n",
        "        optimizer.step()\n",
        "\n",
        "        if scheduler:\n",
        "            scheduler.step()\n",
        "\n",
        "        if (epoch + 1) % params['logging_frequency'] == 0:\n",
        "            time_elapsed = time.time() - start\n",
        "            evaluation_result = eval_loss(model, dataset, params)\n",
        "            all_losses.append(evaluation_result)\n",
        "            print(\n",
        "                f\"Epoch {epoch + 1}/{params['training_epochs']} | \"\n",
        "                f\"Validation Loss: {evaluation_result['validation']:.4f} | \"\n",
        "                f\"Time: {time_elapsed:.2f}s\"\n",
        "            )\n",
        "            start = time.time()\n",
        "            if scheduler:\n",
        "                print(\"lr: \", scheduler.get_lr())\n",
        "\n",
        "    print(\"Final Validation Loss: \", all_losses[-1]['validation'])\n",
        "    return pd.DataFrame(all_losses).plot()"
      ],
      "metadata": {
        "id": "0XmhO4cGmiKe",
        "ExecuteTime": {
          "end_time": "2024-06-25T11:24:20.562502Z",
          "start_time": "2024-06-25T11:24:20.556188Z"
        }
      },
      "outputs": [],
      "execution_count": 14
    },
    {
      "metadata": {
        "id": "8QV4S0-5q47b"
      },
      "cell_type": "markdown",
      "source": [
        "# First task result:\n",
        "\n"
      ]
    },
    {
      "cell_type": "code",
      "source": [
        "# Load and process the dataset\n",
        "data_path = \"./data.txt\"\n",
        "dataset, vocab_size = prepare_data(data_path)\n"
      ],
      "metadata": {
        "id": "O1ryVrHd5XjY"
      },
      "execution_count": 15,
      "outputs": []
    },
    {
      "cell_type": "code",
      "source": [
        "\n",
        "# Configuration for the language model\n",
        "MODEL_PARAMS = {\n",
        "    'vocab_size': vocab_size,\n",
        "    'embedding_dim': 128,\n",
        "    'attention_heads': 8,\n",
        "    'sequence_length': 64,\n",
        "    'transformer_blocks': 6,\n",
        "    'training_batch': 64,\n",
        "    'training_epochs': 100,\n",
        "    'logging_frequency': 10,\n",
        "    'dropout': 0.3,\n",
        "    'device': torch.device('cuda' if torch.cuda.is_available() else 'cpu')\n",
        "}\n",
        "\n",
        "\n",
        "# Check GPU availability and set device\n",
        "if torch.cuda.is_available():\n",
        "    device = torch.device('cuda')\n",
        "    print(\"Using GPU for training.\")\n",
        "else:\n",
        "    device = torch.device('cpu')\n",
        "    print(\"GPU not found, using CPU for training.\")\n",
        "\n",
        "# Create the language model\n",
        "if torch.cuda.device_count() > 1:\n",
        "    print(f\"Distributing training across {torch.cuda.device_count()} GPUs.\")\n",
        "    model = nn.DataParallel(LLama(MODEL_PARAMS)).to(device)\n",
        "else:\n",
        "    model = LLama(MODEL_PARAMS).to(device)\n",
        "\n",
        "# Move the dataset to the selected device\n",
        "dataset = dataset.to(device)\n",
        "\n",
        "# Create the optimizer\n",
        "optimizer = torch.optim.Adam(model.parameters())\n",
        "\n",
        "start_time = time.time()\n",
        "# Start training\n",
        "train_model(model, optimizer, dataset, MODEL_PARAMS)\n",
        "print(f\"Model Training Duration: {time.time() - start_time:.2f} seconds\")\n"
      ],
      "metadata": {
        "id": "ZzTD03mmmkYr",
        "ExecuteTime": {
          "end_time": "2024-06-25T11:24:30.376638Z",
          "start_time": "2024-06-25T11:24:20.570484Z"
        },
        "colab": {
          "base_uri": "https://localhost:8080/",
          "height": 744
        },
        "outputId": "d6447688-bcd0-4e08-eea0-76c3d88065fe"
      },
      "outputs": [
        {
          "output_type": "stream",
          "name": "stdout",
          "text": [
            "Using GPU for training.\n",
            "Model parameters: 763362\n",
            "Epoch 10/100 | Validation Loss: 3.3442 | Time: 2.09s\n",
            "Epoch 20/100 | Validation Loss: 3.0984 | Time: 0.52s\n",
            "Epoch 30/100 | Validation Loss: 2.9287 | Time: 0.41s\n",
            "Epoch 40/100 | Validation Loss: 2.7375 | Time: 0.26s\n",
            "Epoch 50/100 | Validation Loss: 2.5618 | Time: 0.30s\n",
            "Epoch 60/100 | Validation Loss: 2.4312 | Time: 0.29s\n",
            "Epoch 70/100 | Validation Loss: 2.3367 | Time: 0.33s\n",
            "Epoch 80/100 | Validation Loss: 2.2721 | Time: 0.33s\n",
            "Epoch 90/100 | Validation Loss: 2.2152 | Time: 0.21s\n",
            "Epoch 100/100 | Validation Loss: 2.1791 | Time: 0.21s\n",
            "Final Validation Loss:  2.1790888786315916\n",
            "Model Training Duration: 6.97 seconds\n"
          ]
        },
        {
          "output_type": "display_data",
          "data": {
            "text/plain": [
              "<Figure size 640x480 with 1 Axes>"
            ],
            "image/png": "[encoded data removed]"
          },
          "metadata": {}
        }
      ],
      "execution_count": 16
    },
    {
      "metadata": {
        "id": "LU8FbIRJ7A4f"
      },
      "cell_type": "markdown",
      "source": [
        "# Second task result:\n",
        "\n"
      ]
    },
    {
      "cell_type": "code",
      "source": [
        "# Updated configuration for the language model\n",
        "ENHANCED_MODEL_PARAMS = {\n",
        "    'vocab_size': vocab_size,\n",
        "    'embedding_dim': 256,\n",
        "    'attention_heads': 16,\n",
        "    'sequence_length': 128,\n",
        "    'transformer_blocks': 16,\n",
        "    'training_batch': 64,\n",
        "    'training_epochs': 200,\n",
        "    'logging_frequency': 10,\n",
        "    'lr':1e-4,\n",
        "    'dropout': 0.3,\n",
        "    'device': torch.device('cuda' if torch.cuda.is_available() else 'cpu')\n",
        "}\n",
        "\n",
        "# Create the enhanced language model\n",
        "if torch.cuda.device_count() > 1:\n",
        "    print(f\"Distributing training across {torch.cuda.device_count()} GPUs.\")\n",
        "    enhanced_model = nn.DataParallel(LLama(ENHANCED_MODEL_PARAMS)).to(device)\n",
        "else:\n",
        "    enhanced_model = LLama(ENHANCED_MODEL_PARAMS).to(device)\n",
        "\n",
        "# Create the optimizer for the enhanced model\n",
        "enhanced_optimizer = torch.optim.Adam(enhanced_model.parameters(), lr=ENHANCED_MODEL_PARAMS['lr'])\n",
        "\n",
        "# Start training the enhanced model and note the training duration\n",
        "start_time = time.time()\n",
        "train_model(enhanced_model, enhanced_optimizer, dataset, ENHANCED_MODEL_PARAMS)\n",
        "print(f\"Enhanced Model Training Duration: {time.time() - start_time:.2f} seconds\")"
      ],
      "metadata": {
        "colab": {
          "base_uri": "https://localhost:8080/",
          "height": 938
        },
        "id": "namndiHWu13q",
        "outputId": "96a10adc-f7ee-4040-a37c-9c29c3cf223f"
      },
      "execution_count": 17,
      "outputs": [
        {
          "output_type": "stream",
          "name": "stdout",
          "text": [
            "Model parameters: 7596396\n",
            "Epoch 10/200 | Validation Loss: 4.1419 | Time: 1.99s\n",
            "Epoch 20/200 | Validation Loss: 3.6380 | Time: 1.95s\n",
            "Epoch 30/200 | Validation Loss: 3.3633 | Time: 1.96s\n",
            "Epoch 40/200 | Validation Loss: 3.2812 | Time: 1.96s\n",
            "Epoch 50/200 | Validation Loss: 3.2277 | Time: 2.00s\n",
            "Epoch 60/200 | Validation Loss: 3.2045 | Time: 2.00s\n",
            "Epoch 70/200 | Validation Loss: 3.1568 | Time: 2.04s\n",
            "Epoch 80/200 | Validation Loss: 3.0340 | Time: 1.99s\n",
            "Epoch 90/200 | Validation Loss: 2.8939 | Time: 2.00s\n",
            "Epoch 100/200 | Validation Loss: 2.7424 | Time: 2.01s\n",
            "Epoch 110/200 | Validation Loss: 2.6302 | Time: 2.02s\n",
            "Epoch 120/200 | Validation Loss: 2.5243 | Time: 2.02s\n",
            "Epoch 130/200 | Validation Loss: 2.4436 | Time: 2.06s\n",
            "Epoch 140/200 | Validation Loss: 2.3715 | Time: 2.09s\n",
            "Epoch 150/200 | Validation Loss: 2.3232 | Time: 2.04s\n",
            "Epoch 160/200 | Validation Loss: 2.2682 | Time: 2.04s\n",
            "Epoch 170/200 | Validation Loss: 2.2353 | Time: 2.02s\n",
            "Epoch 180/200 | Validation Loss: 2.1857 | Time: 2.02s\n",
            "Epoch 190/200 | Validation Loss: 2.1585 | Time: 2.02s\n",
            "Epoch 200/200 | Validation Loss: 2.1559 | Time: 2.01s\n",
            "Final Validation Loss:  2.155875253677368\n",
            "Enhanced Model Training Duration: 69.71 seconds\n"
          ]
        },
        {
          "output_type": "display_data",
          "data": {
            "text/plain": [
              "<Figure size 640x480 with 1 Axes>"
            ],
            "image/png": "[encoded data removed]"
          },
          "metadata": {}
        }
      ]
    },
    {
      "cell_type": "markdown",
      "source": [
        "almost no improvement"
      ],
      "metadata": {
        "id": "cJVqqoZxF9gt"
      }
    },
    {
      "cell_type": "markdown",
      "source": [
        "##Key-Value (KV) caching"
      ],
      "metadata": {
        "id": "Z77KIE3-zXE2"
      }
    },
    {
      "cell_type": "code",
      "source": [
        "class AttentionHeadWithRoPE(nn.Module):\n",
        "    def __init__(self, params):\n",
        "        super().__init__()\n",
        "        self.params = params\n",
        "        self.w_q = nn.Linear(params['embedding_dim'], params['embedding_dim'], bias=False)\n",
        "        self.w_k = nn.Linear(params['embedding_dim'], params['embedding_dim'], bias=False)\n",
        "        self.w_v = nn.Linear(params['embedding_dim'], params['embedding_dim'], bias=False)\n",
        "        self.rotation_matrix = generate_rotation_matrix(params['sequence_length'], params['embedding_dim'], params['device'])\n",
        "        self.cache_k = None\n",
        "        self.cache_v = None\n",
        "\n",
        "    def forward(self, data_input, use_cache=True, return_attention=False):\n",
        "        batch_size, seq_len, embed_dim = data_input.shape\n",
        "        query = self.w_q(data_input)\n",
        "        key = self.w_k(data_input)\n",
        "        value = self.w_v(data_input)\n",
        "\n",
        "        query_rotated = (torch.bmm(query.transpose(0, 1), self.rotation_matrix[:seq_len])).transpose(0, 1)\n",
        "        key_rotated = (torch.bmm(key.transpose(0, 1), self.rotation_matrix[:seq_len])).transpose(0, 1)\n",
        "\n",
        "        if use_cache and self.cache_k is not None and self.cache_v is not None:\n",
        "            key_rotated = torch.cat([self.cache_k.detach(), key_rotated], dim=1)\n",
        "            value = torch.cat([self.cache_v.detach(), value], dim=1)\n",
        "        else:\n",
        "            self.cache_k = key_rotated\n",
        "            self.cache_v = value\n",
        "\n",
        "        attention_output = F.scaled_dot_product_attention(\n",
        "            query_rotated, key_rotated, value, dropout_p=0.1, is_causal=True\n",
        "        )\n",
        "\n",
        "\n",
        "        if return_attention:\n",
        "            att_mask = torch.tril(torch.ones((seq_len, seq_len)), diagonal=0)\n",
        "            attention_weights = (torch.bmm(query_rotated, key_rotated.transpose(1, 2)) / np.sqrt(embed_dim)) + att_mask\n",
        "\n",
        "            attention_weights = F.softmax(attention_weights, dim=-1)\n",
        "            return attention_output, attention_weights\n",
        "\n",
        "        return attention_output\n"
      ],
      "metadata": {
        "id": "TX2eJjp7zYTP"
      },
      "execution_count": 18,
      "outputs": []
    },
    {
      "cell_type": "code",
      "source": [
        "# Configuration for the language model\n",
        "MODEL_PARAMS = {\n",
        "    'vocab_size': vocab_size,\n",
        "    'embedding_dim': 128,\n",
        "    'attention_heads': 8,\n",
        "    'sequence_length': 64,\n",
        "    'transformer_blocks': 6,\n",
        "    'training_batch': 64,\n",
        "    'training_epochs': 100,\n",
        "    'logging_frequency': 10,\n",
        "    'dropout': 0.3,\n",
        "    'device': torch.device('cuda' if torch.cuda.is_available() else 'cpu')\n",
        "}\n",
        "\n",
        "\n",
        "# Check GPU availability and set device\n",
        "if torch.cuda.is_available():\n",
        "    device = torch.device('cuda')\n",
        "    print(\"Using GPU for training.\")\n",
        "else:\n",
        "    device = torch.device('cpu')\n",
        "    print(\"GPU not found, using CPU for training.\")\n",
        "\n",
        "# Create the language model\n",
        "if torch.cuda.device_count() > 1:\n",
        "    print(f\"Distributing training across {torch.cuda.device_count()} GPUs.\")\n",
        "    model_KV = nn.DataParallel(LLama(MODEL_PARAMS)).to(device)\n",
        "else:\n",
        "    model_KV = LLama(MODEL_PARAMS).to(device)\n",
        "\n",
        "# Move the dataset to the selected device\n",
        "dataset = dataset.to(device)\n",
        "\n",
        "# Create the optimizer\n",
        "optimizer = torch.optim.Adam(model_KV.parameters())\n",
        "\n",
        "start_time = time.time()\n",
        "# Start training\n",
        "train_model(model_KV, optimizer, dataset, MODEL_PARAMS)\n",
        "print(f\"Model Training Duration: {time.time() - start_time:.2f} seconds\")"
      ],
      "metadata": {
        "colab": {
          "base_uri": "https://localhost:8080/",
          "height": 740
        },
        "id": "p7snCzEP0q9G",
        "outputId": "cd14643d-25bb-4d23-f407-48d9cc091289"
      },
      "execution_count": 19,
      "outputs": [
        {
          "output_type": "stream",
          "name": "stdout",
          "text": [
            "Using GPU for training.\n",
            "Model parameters: 763362\n",
            "Epoch 10/100 | Validation Loss: 3.7217 | Time: 0.22s\n",
            "Epoch 20/100 | Validation Loss: 3.0108 | Time: 0.21s\n",
            "Epoch 30/100 | Validation Loss: 2.8355 | Time: 0.22s\n",
            "Epoch 40/100 | Validation Loss: 2.7642 | Time: 0.21s\n",
            "Epoch 50/100 | Validation Loss: 2.6840 | Time: 0.22s\n",
            "Epoch 60/100 | Validation Loss: 2.6257 | Time: 0.23s\n",
            "Epoch 70/100 | Validation Loss: 2.6129 | Time: 0.21s\n",
            "Epoch 80/100 | Validation Loss: 2.5718 | Time: 0.22s\n",
            "Epoch 90/100 | Validation Loss: 2.5473 | Time: 0.23s\n",
            "Epoch 100/100 | Validation Loss: 2.5254 | Time: 0.22s\n",
            "Final Validation Loss:  2.525415229797363\n",
            "Model Training Duration: 3.75 seconds\n"
          ]
        },
        {
          "output_type": "display_data",
          "data": {
            "text/plain": [
              "<Figure size 640x480 with 1 Axes>"
            ],
            "image/png": "[encoded data removed]"
          },
          "metadata": {}
        }
      ]
    },
    {
      "cell_type": "markdown",
      "source": [
        "the model runs 3.75 seconds , almost half of the first model\n",
        "also we can notice that the loss dacays really fastly"
      ],
      "metadata": {
        "id": "95FwTdK0GIqZ"
      }
    },
    {
      "cell_type": "markdown",
      "source": [
        "## Grouped Query Attention (GQA)"
      ],
      "metadata": {
        "id": "FeucPyJ93s_y"
      }
    },
    {
      "cell_type": "code",
      "source": [
        "class AttentionHeadWithGQA(nn.Module):\n",
        "    def __init__(self, params, query_groups):\n",
        "        super().__init__()\n",
        "        self.params = params\n",
        "        self.query_groups = params['query_groups']\n",
        "        self.w_q = nn.Linear(params['embedding_dim'], params['embedding_dim'], bias=False)\n",
        "        self.w_k = nn.Linear(params['embedding_dim'], params['embedding_dim'], bias=False)\n",
        "        self.w_v = nn.Linear(params['embedding_dim'], params['embedding_dim'], bias=False)\n",
        "        self.rotation_matrix = generate_rotation_matrix(params['sequence_length'], params['embedding_dim'], params['device'])\n",
        "\n",
        "    def forward(self, data_input, return_attention=False):\n",
        "        batch_size, seq_len, embed_dim = data_input.shape\n",
        "        query = self.w_q(data_input).view(batch_size, seq_len, self.query_groups, -1)\n",
        "        key = self.w_k(data_input)\n",
        "        value = self.w_v(data_input)\n",
        "\n",
        "        query_rotated = (torch.bmm(query.transpose(0, 1), self.rotation_matrix[:seq_len])).transpose(0, 1)\n",
        "        key_rotated = (torch.bmm(key.transpose(0, 1), self.rotation_matrix[:seq_len])).transpose(0, 1)\n",
        "\n",
        "        attention_output = F.scaled_dot_product_attention(\n",
        "            query_rotated, key_rotated, value, dropout_p=0.1, is_causal=True\n",
        "        )\n",
        "\n",
        "        return attention_output.view(batch_size, seq_len, embed_dim)\n"
      ],
      "metadata": {
        "id": "xENAMh-z1a8R"
      },
      "execution_count": 20,
      "outputs": []
    },
    {
      "cell_type": "code",
      "source": [
        "# Configuration for the language model\n",
        "MODEL_PARAMS = {\n",
        "    'vocab_size': vocab_size,\n",
        "    'embedding_dim': 128,\n",
        "    'attention_heads': 8,\n",
        "    'sequence_length': 64,\n",
        "    'transformer_blocks': 6,\n",
        "    'training_batch': 64,\n",
        "    'training_epochs': 100,\n",
        "    'logging_frequency': 10,\n",
        "    'dropout': 0.3,\n",
        "    'query_groups':4,\n",
        "    'device': torch.device('cuda' if torch.cuda.is_available() else 'cpu')\n",
        "}\n",
        "\n",
        "\n",
        "# Check GPU availability and set device\n",
        "if torch.cuda.is_available():\n",
        "    device = torch.device('cuda')\n",
        "    print(\"Using GPU for training.\")\n",
        "else:\n",
        "    device = torch.device('cpu')\n",
        "    print(\"GPU not found, using CPU for training.\")\n",
        "\n",
        "# Create the language model\n",
        "if torch.cuda.device_count() > 1:\n",
        "    print(f\"Distributing training across {torch.cuda.device_count()} GPUs.\")\n",
        "    model_GQA = nn.DataParallel(LLama(MODEL_PARAMS)).to(device)\n",
        "else:\n",
        "    model_GQA = LLama(MODEL_PARAMS).to(device)\n",
        "\n",
        "# Move the dataset to the selected device\n",
        "dataset = dataset.to(device)\n",
        "\n",
        "# Create the optimizer\n",
        "optimizer = torch.optim.Adam(model_GQA.parameters())\n",
        "\n",
        "start_time = time.time()\n",
        "# Start training\n",
        "train_model(model_GQA, optimizer, dataset, MODEL_PARAMS)\n",
        "print(f\"Model GQA Training Duration: {time.time() - start_time:.2f} seconds\")"
      ],
      "metadata": {
        "colab": {
          "base_uri": "https://localhost:8080/",
          "height": 740
        },
        "id": "Q3awW4N23q0C",
        "outputId": "cf67479d-0e09-4681-a3d5-69b53b18b72e"
      },
      "execution_count": 21,
      "outputs": [
        {
          "output_type": "stream",
          "name": "stdout",
          "text": [
            "Using GPU for training.\n",
            "Model parameters: 763362\n",
            "Epoch 10/100 | Validation Loss: 3.7182 | Time: 0.22s\n",
            "Epoch 20/100 | Validation Loss: 3.0314 | Time: 0.21s\n",
            "Epoch 30/100 | Validation Loss: 2.8277 | Time: 0.23s\n",
            "Epoch 40/100 | Validation Loss: 2.7070 | Time: 0.21s\n",
            "Epoch 50/100 | Validation Loss: 2.6620 | Time: 0.22s\n",
            "Epoch 60/100 | Validation Loss: 2.6183 | Time: 0.23s\n",
            "Epoch 70/100 | Validation Loss: 2.5793 | Time: 0.22s\n",
            "Epoch 80/100 | Validation Loss: 2.5622 | Time: 0.22s\n",
            "Epoch 90/100 | Validation Loss: 2.5442 | Time: 0.23s\n",
            "Epoch 100/100 | Validation Loss: 2.5485 | Time: 0.21s\n",
            "Final Validation Loss:  2.5485157489776613\n",
            "Model GQA Training Duration: 3.85 seconds\n"
          ]
        },
        {
          "output_type": "display_data",
          "data": {
            "text/plain": [
              "<Figure size 640x480 with 1 Axes>"
            ],
            "image/png": "[encoded data removed]"
          },
          "metadata": {}
        }
      ]
    },
    {
      "cell_type": "markdown",
      "source": [
        "the model runs 2.5 seconds , almost the third of the first model\n",
        "also we can notice that the loss dacays really fastly"
      ],
      "metadata": {
        "id": "rpineqn6GeA7"
      }
    },
    {
      "cell_type": "code",
      "source": [],
      "metadata": {
        "id": "0ijgOxO_4EcT"
      },
      "execution_count": 21,
      "outputs": []
    }
  ]
}